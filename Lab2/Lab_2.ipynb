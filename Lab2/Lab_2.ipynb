{
 "cells": [
  {
   "cell_type": "markdown",
   "id": "21d30622-ea3f-4154-acdd-1552959349d9",
   "metadata": {
    "editable": true,
    "slideshow": {
     "slide_type": ""
    },
    "tags": []
   },
   "source": [
    "# Task 1\n",
    "## Виконати набір вправ. Всі завдання виконати 2 способами:\n",
    " <li>з використанням універсальних функцій бібліотеки NumPy</li>\n",
    " <li>b) за допомогою ітеративних конструкцій (з використанням\r\n",
    "циклів, спискових включень тощо.</li>"
   ]
  },
  {
   "cell_type": "code",
   "execution_count": 4,
   "id": "599a3238-7865-4459-939d-576ddcddfefc",
   "metadata": {},
   "outputs": [],
   "source": [
    "import math\n",
    "import random\n",
    "import numpy as np"
   ]
  },
  {
   "cell_type": "markdown",
   "id": "beff47fb-4e18-46f1-ade5-76d95134feca",
   "metadata": {},
   "source": [
    "## Вправа 1\n",
    "### Вводиться число n. Вивести масив розміру n×n, в якому по діагоналі йдуть числа від 1 до n, а інші числа дорівнюють 0."
   ]
  },
  {
   "cell_type": "code",
   "execution_count": 6,
   "id": "5b4ec097-bd1f-48a8-8d23-cf1964a39a6e",
   "metadata": {},
   "outputs": [
    {
     "name": "stdin",
     "output_type": "stream",
     "text": [
      "Enter n:  5\n"
     ]
    },
    {
     "name": "stdout",
     "output_type": "stream",
     "text": [
      "[1, 0, 0, 0, 0]\n",
      "[0, 2, 0, 0, 0]\n",
      "[0, 0, 3, 0, 0]\n",
      "[0, 0, 0, 4, 0]\n",
      "[0, 0, 0, 0, 5]\n",
      "CPU times: total: 0 ns\n",
      "Wall time: 2.67 s\n"
     ]
    }
   ],
   "source": [
    "def task_1():\n",
    "    n = int(input(\"Enter n: \"))\n",
    "    arr = [[0 for j in range(n)] for i in range(n)]\n",
    "    \n",
    "    for i in range(n):\n",
    "        arr[i][i] = i + 1\n",
    "\n",
    "    for row in arr:\n",
    "        print(row)\n",
    "        \n",
    "        \n",
    "%time task_1()"
   ]
  },
  {
   "cell_type": "code",
   "execution_count": 7,
   "id": "43eb624c-70d1-438e-be06-c71db8927c0b",
   "metadata": {},
   "outputs": [
    {
     "name": "stdin",
     "output_type": "stream",
     "text": [
      "Enter n:  5\n"
     ]
    },
    {
     "name": "stdout",
     "output_type": "stream",
     "text": [
      "[[1 0 0 0 0]\n",
      " [0 2 0 0 0]\n",
      " [0 0 3 0 0]\n",
      " [0 0 0 4 0]\n",
      " [0 0 0 0 5]]\n",
      "CPU times: total: 15.6 ms\n",
      "Wall time: 1.65 s\n"
     ]
    }
   ],
   "source": [
    "import numpy as np\n",
    "\n",
    "def task_1():\n",
    "    n = int(input(\"Enter n: \"))\n",
    "    arr = np.zeros((n, n), dtype=int)\n",
    "    arr[np.diag_indices_from(arr)] = np.arange(1, n+1)\n",
    "    print(arr)\n",
    "\n",
    "\n",
    "%time task_1()"
   ]
  },
  {
   "cell_type": "markdown",
   "id": "83d1f40a-1ad9-48d3-92de-5b8b48d544db",
   "metadata": {},
   "source": [
    "## Вправа 3\n",
    "### Вводяться 4 числа n, m, r, c. Вивести масив розміру n×m, в якому в кожному рядку з номером r і в кожному стовпчику з номером c стоять 0, а інші елементи дорівнюють 1."
   ]
  },
  {
   "cell_type": "code",
   "execution_count": 10,
   "id": "cefff27b-e324-4203-a9a7-0afa51b2bf3c",
   "metadata": {},
   "outputs": [
    {
     "name": "stdin",
     "output_type": "stream",
     "text": [
      "Enter n, m, r, c separated by space:  6 7 2 3\n"
     ]
    },
    {
     "name": "stdout",
     "output_type": "stream",
     "text": [
      "[0, 0, 0, 0, 0, 0, 0]\n",
      "[0, 1, 1, 0, 1, 1, 0]\n",
      "[0, 0, 0, 0, 0, 0, 0]\n",
      "[0, 1, 1, 0, 1, 1, 0]\n",
      "[0, 0, 0, 0, 0, 0, 0]\n",
      "[0, 1, 1, 0, 1, 1, 0]\n",
      "CPU times: total: 15.6 ms\n",
      "Wall time: 13.4 s\n"
     ]
    }
   ],
   "source": [
    "def task_3():\n",
    "    input_str = input(\"Enter n, m, r, c separated by space: \")\n",
    "    values = input_str.split()\n",
    "    n, m, r, c = map(int, values)\n",
    "    \n",
    "    arr = [[1 for j in range(m)] for i in range(n)]\n",
    "    \n",
    "    for i in range(n):\n",
    "        if i % r == 0:\n",
    "            arr[i] = [0 for j in range(m)]\n",
    "\n",
    "    for i in range(m):\n",
    "        if i % c == 0:\n",
    "            for j in range(n):\n",
    "                arr[j][i] = 0\n",
    "        \n",
    "    for row in arr:\n",
    "        print(row)\n",
    "        \n",
    "%time task_3()"
   ]
  },
  {
   "cell_type": "code",
   "execution_count": 12,
   "id": "2a0f7c86-6d23-4508-a11a-ce716b800068",
   "metadata": {},
   "outputs": [
    {
     "name": "stdin",
     "output_type": "stream",
     "text": [
      "Enter n, m, r, c separated by space:  6 7 2 3\n"
     ]
    },
    {
     "name": "stdout",
     "output_type": "stream",
     "text": [
      "[[0 0 0 0 0 0 0]\n",
      " [0 1 1 0 1 1 0]\n",
      " [0 0 0 0 0 0 0]\n",
      " [0 1 1 0 1 1 0]\n",
      " [0 0 0 0 0 0 0]\n",
      " [0 1 1 0 1 1 0]]\n",
      "CPU times: total: 0 ns\n",
      "Wall time: 3.01 s\n"
     ]
    }
   ],
   "source": [
    "import numpy as np\n",
    "\n",
    "def task_3():\n",
    "    input_str = input(\"Enter n, m, r, c separated by space: \")\n",
    "    values = input_str.split()\n",
    "    n, m, r, c = map(int, values)\n",
    "    \n",
    "    arr = np.ones((n, m), dtype=int)\n",
    "    arr[::r, :] = 0\n",
    "    arr[:, ::c] = 0\n",
    "\n",
    "    print(arr)\n",
    "    \n",
    "%time task_3()"
   ]
  },
  {
   "cell_type": "markdown",
   "id": "7a85c167-e6b1-450b-aa00-d48151c33446",
   "metadata": {},
   "source": [
    "## Вправа 4\n",
    "### Вводяться числа n і m. Вивести масив розміру n×m, в якому у першому рядку (рядок з нулевим індексом) йдуть числа від 0 до m–1, а всі інші елементи матриці дорівнюють 0."
   ]
  },
  {
   "cell_type": "code",
   "execution_count": 16,
   "id": "6043a5bb-ec5f-41d8-9841-f0c5da12ceac",
   "metadata": {},
   "outputs": [
    {
     "name": "stdin",
     "output_type": "stream",
     "text": [
      "Enter n, m separated by space:  3 4\n"
     ]
    },
    {
     "name": "stdout",
     "output_type": "stream",
     "text": [
      "[0, 1, 2]\n",
      "[0, 0, 0]\n",
      "[0, 0, 0]\n",
      "[0, 0, 0]\n",
      "CPU times: total: 0 ns\n",
      "Wall time: 2.42 s\n"
     ]
    }
   ],
   "source": [
    "def task_4():\n",
    "    input_str = input(\"Enter n, m separated by space: \")\n",
    "    values = input_str.split()\n",
    "    n, m = map(int, values)\n",
    "    \n",
    "    arr = [[0 for j in range(n)] for i in range(m)]\n",
    "    \n",
    "    for i in range(n):\n",
    "        arr[0][i] = i\n",
    "        \n",
    "    for row in arr:\n",
    "        print(row)\n",
    "        \n",
    "%time task_4()"
   ]
  },
  {
   "cell_type": "code",
   "execution_count": 20,
   "id": "06486e67-d083-4699-b44b-409551779364",
   "metadata": {},
   "outputs": [
    {
     "name": "stdin",
     "output_type": "stream",
     "text": [
      "Enter n, m separated by space:  3 4\n"
     ]
    },
    {
     "name": "stdout",
     "output_type": "stream",
     "text": [
      "[[0 1 2]\n",
      " [0 0 0]\n",
      " [0 0 0]\n",
      " [0 0 0]]\n",
      "CPU times: total: 0 ns\n",
      "Wall time: 2.89 s\n"
     ]
    }
   ],
   "source": [
    "import numpy as np\n",
    "\n",
    "def task_4():\n",
    "    input_str = input(\"Enter n, m separated by space: \")\n",
    "    values = input_str.split()\n",
    "    n, m = map(int, values)\n",
    "    \n",
    "    arr = np.zeros((m, n), dtype=int)\n",
    "    \n",
    "    arr[0] = np.arange(n)\n",
    "    \n",
    "    print(arr)\n",
    "    \n",
    "%time task_4()"
   ]
  },
  {
   "cell_type": "markdown",
   "id": "6840ffe0-1f0c-49ea-8c57-05c8c3e4f89a",
   "metadata": {},
   "source": [
    "## Вправа 6\n",
    "### З клавіатури вводиться масив, Замінити всі ненульові елементи на -1."
   ]
  },
  {
   "cell_type": "code",
   "execution_count": 25,
   "id": "aa55de12-dd83-46f5-98a8-34fe4f7b4a02",
   "metadata": {},
   "outputs": [
    {
     "name": "stdout",
     "output_type": "stream",
     "text": [
      "CPU times: total: 0 ns\n",
      "Wall time: 0 ns\n"
     ]
    },
    {
     "data": {
      "text/plain": [
       "[-1, -1, 0, -1, -1, 0, -1, 0, -1, 0, -1]"
      ]
     },
     "execution_count": 25,
     "metadata": {},
     "output_type": "execute_result"
    }
   ],
   "source": [
    "def task_6(input_array):\n",
    "    for i in range(len(input_array)):\n",
    "        if input_array[i] != 0:\n",
    "            input_array[i] = -1\n",
    "    return input_array\n",
    "\n",
    "%time task_6([3,4,0,9,7,0,6,0,4,0,3])"
   ]
  },
  {
   "cell_type": "code",
   "execution_count": 26,
   "id": "404a5d9e-396c-4422-be70-970696bb18c2",
   "metadata": {},
   "outputs": [
    {
     "name": "stdout",
     "output_type": "stream",
     "text": [
      "CPU times: total: 0 ns\n",
      "Wall time: 0 ns\n"
     ]
    },
    {
     "data": {
      "text/plain": [
       "array([-1, -1,  0, -1, -1,  0, -1,  0, -1,  0, -1])"
      ]
     },
     "execution_count": 26,
     "metadata": {},
     "output_type": "execute_result"
    }
   ],
   "source": [
    "import numpy as np\n",
    "\n",
    "def task_6(input_array):\n",
    "    arr = np.array(input_array)\n",
    "    arr[arr != 0] = -1\n",
    "    return arr\n",
    "\n",
    "%time task_6([3,4,0,9,7,0,6,0,4,0,3])"
   ]
  },
  {
   "cell_type": "markdown",
   "id": "00aa317d-0002-4ee6-aa5f-2022519f4c18",
   "metadata": {},
   "source": [
    "## Вправа 10\n",
    "### Вводиться числа n i m. Створити масив випадкових значень n×m і обчислити мінімальне, максимальне значення, середнє та середньо квадратичне відхилення, округлене до 3 знаків після коми."
   ]
  },
  {
   "cell_type": "code",
   "execution_count": 28,
   "id": "5dec4fc0-019b-4d3c-a325-ac7efbe4be19",
   "metadata": {},
   "outputs": [
    {
     "name": "stdin",
     "output_type": "stream",
     "text": [
      "Enter n, m separated by space:  4 5\n"
     ]
    },
    {
     "name": "stdout",
     "output_type": "stream",
     "text": [
      "мінімум: 0.087\n",
      "максимум: 0.976\n",
      "середнє: 0.579\n",
      "дисперсія: 0.260\n",
      "CPU times: total: 15.6 ms\n",
      "Wall time: 6.26 s\n"
     ]
    }
   ],
   "source": [
    "import random\n",
    "import math\n",
    "\n",
    "def task_10():\n",
    "    input_str = input(\"Enter n, m separated by space: \")\n",
    "    values = input_str.split()\n",
    "    n, m = map(int, values)\n",
    "    \n",
    "    arr = [[round(random.uniform(0, 1), 3) for j in range(m)] for i in range(n)]\n",
    "\n",
    "    arr_min = min(min(arr[i]) for i in range(n))\n",
    "    arr_max = max(max(arr[i]) for i in range(n))\n",
    "\n",
    "    sum_val = sum(sum(arr[i]) for i in range(n))\n",
    "    arr_mean = sum_val / (n * m)\n",
    "\n",
    "    sq_diff = sum((arr[i][j] - arr_mean) ** 2 for i in range(n) for j in range(m))\n",
    "    arr_std = math.sqrt(sq_diff / (n * m))\n",
    "\n",
    "    print(f\"мінімум: {arr_min}\")\n",
    "    print(f\"максимум: {arr_max}\")\n",
    "    print(f\"середнє: {arr_mean:.3f}\")\n",
    "    print(f\"дисперсія: {arr_std:.3f}\")\n",
    "\n",
    "%time task_10()"
   ]
  },
  {
   "cell_type": "code",
   "execution_count": 29,
   "id": "4af99aff-769f-4585-988a-f544af67a936",
   "metadata": {},
   "outputs": [
    {
     "name": "stdin",
     "output_type": "stream",
     "text": [
      "Enter n, m separated by space:  4 5\n"
     ]
    },
    {
     "name": "stdout",
     "output_type": "stream",
     "text": [
      "мінімум: 0.061\n",
      "максимум: 0.988\n",
      "середнє: 0.523\n",
      "дисперсія: 0.257\n",
      "CPU times: total: 15.6 ms\n",
      "Wall time: 3.91 s\n"
     ]
    }
   ],
   "source": [
    "import random\n",
    "import math\n",
    "import numpy as np\n",
    "\n",
    "def task_4():\n",
    "    input_str = input(\"Enter n, m separated by space: \")\n",
    "    values = input_str.split()\n",
    "    n, m = map(int, values)\n",
    "    \n",
    "    arr = np.random.rand(n, m)\n",
    "    arr_min = np.min(arr)\n",
    "    arr_max = np.max(arr)\n",
    "    arr_mean = np.mean(arr)\n",
    "    arr_std = np.std(arr)\n",
    "    \n",
    "    print(f\"мінімум: {arr_min}\")\n",
    "    print(f\"максимум: {arr_max}\")\n",
    "    print(f\"середнє: {arr_mean:.3f}\")\n",
    "    print(f\"дисперсія: {arr_std:.3f}\")\n",
    "    \n",
    "%time task_10()   "
   ]
  },
  {
   "cell_type": "markdown",
   "id": "6186ff92-54fa-4707-9c2d-5d10c81c6a4e",
   "metadata": {},
   "source": [
    "## Вправа 12\n",
    "### Створити масив одиниць розміром n×n та створити в ньому «рамку», що утворюється з 0."
   ]
  },
  {
   "cell_type": "code",
   "execution_count": 31,
   "id": "e460ad7b-bd9e-4631-b755-c88c50cc8bbb",
   "metadata": {},
   "outputs": [
    {
     "name": "stdin",
     "output_type": "stream",
     "text": [
      "Enter n:  4\n"
     ]
    },
    {
     "name": "stdout",
     "output_type": "stream",
     "text": [
      "[0, 0, 0, 0]\n",
      "[0, 1, 1, 0]\n",
      "[0, 1, 1, 0]\n",
      "[0, 0, 0, 0]\n",
      "CPU times: total: 15.6 ms\n",
      "Wall time: 4.44 s\n"
     ]
    }
   ],
   "source": [
    "def task_12():\n",
    "    n = int(input(\"Enter n: \"))\n",
    "    \n",
    "    arr = [[1 for j in range(n)] for i in range(n)]\n",
    "    \n",
    "    arr[0] = [0 for i in range(n)]\n",
    "    arr[n-1] = [0 for i in range(n)]\n",
    "    \n",
    "    for i in range(1, n-1):\n",
    "        for j in range(n):\n",
    "            if j == 0 or j == n - 1:\n",
    "                arr[i][j] = 0\n",
    "                \n",
    "    for row in arr:\n",
    "        print(row)\n",
    "        \n",
    "%time task_12()"
   ]
  },
  {
   "cell_type": "code",
   "execution_count": 32,
   "id": "18dfb554-fd75-48e0-86ca-0f2d1bda62eb",
   "metadata": {},
   "outputs": [
    {
     "name": "stdin",
     "output_type": "stream",
     "text": [
      "Enter n:  4\n"
     ]
    },
    {
     "name": "stdout",
     "output_type": "stream",
     "text": [
      "[[0 0 0 0]\n",
      " [0 1 1 0]\n",
      " [0 1 1 0]\n",
      " [0 0 0 0]]\n",
      "CPU times: total: 0 ns\n",
      "Wall time: 2.03 s\n"
     ]
    }
   ],
   "source": [
    "import numpy as np\n",
    "\n",
    "def task_12():\n",
    "    n = int(input(\"Enter n: \"))\n",
    "    \n",
    "    arr = np.ones((n, n), dtype=int)\n",
    "    \n",
    "    arr[::n-1, :] = 0\n",
    "    arr[:, ::n-1] = 0\n",
    "\n",
    "    print(arr)\n",
    "    \n",
    "%time task_12()"
   ]
  },
  {
   "cell_type": "markdown",
   "id": "7058e770-e6e2-4bc7-ba78-4731bdc1ca06",
   "metadata": {},
   "source": [
    "## Вправа 15\n",
    "### Заповнити парні стовпчикі матриці розміром n×n одиницями, а непарні – нулями."
   ]
  },
  {
   "cell_type": "code",
   "execution_count": 70,
   "id": "300a71dd-d99d-482a-9e9b-d2350eb3f7e0",
   "metadata": {},
   "outputs": [
    {
     "name": "stdout",
     "output_type": "stream",
     "text": [
      "2.17 µs ± 80 ns per loop (mean ± std. dev. of 7 runs, 100,000 loops each)\n"
     ]
    }
   ],
   "source": [
    "def task_15(n):\n",
    "    matrix = [[1 if col % 2 == 0 else 0 for col in range(n)] for row in range(n)]\n",
    "    return matrix\n",
    "\n",
    "%timeit task_15(5)"
   ]
  },
  {
   "cell_type": "code",
   "execution_count": 68,
   "id": "c6714dfb-401b-47d0-b235-4ba440e7b36f",
   "metadata": {},
   "outputs": [
    {
     "name": "stdout",
     "output_type": "stream",
     "text": [
      "785 ns ± 17 ns per loop (mean ± std. dev. of 7 runs, 1,000,000 loops each)\n"
     ]
    }
   ],
   "source": [
    "import numpy as np\n",
    "\n",
    "def task_15(n):\n",
    "    matrix = np.zeros((n, n))\n",
    "    matrix[:, ::2] = 1\n",
    "    return matrix\n",
    "\n",
    "%timeit task_15(5)"
   ]
  },
  {
   "cell_type": "markdown",
   "id": "498aeb40-fc3e-46b6-9ce3-8c015e9a7b69",
   "metadata": {},
   "source": [
    "## Вправа 17\n",
    "### Заповнити вектор значеннями від 0 до n. Замінити знаки для всіх значень, що менші за n/2 та більші за 3n/4 на протилежні."
   ]
  },
  {
   "cell_type": "code",
   "execution_count": 33,
   "id": "a7656037-8013-4ed5-b20b-dc4a6ac3917c",
   "metadata": {},
   "outputs": [
    {
     "name": "stdin",
     "output_type": "stream",
     "text": [
      "Enter n:  10\n"
     ]
    },
    {
     "name": "stdout",
     "output_type": "stream",
     "text": [
      "[0, -1, -2, -3, -4, 5, 6, 7, -8, -9, -10]\n",
      "CPU times: total: 15.6 ms\n",
      "Wall time: 1.77 s\n"
     ]
    }
   ],
   "source": [
    "def task_17():\n",
    "    n = int(input(\"Enter n: \"))\n",
    "    \n",
    "    arr = [i for i in range(n+1)]\n",
    "    \n",
    "    for i in range(n+1):\n",
    "        if i < n/2 or i > 3*n/4:\n",
    "            arr[i] *= -1\n",
    "            \n",
    "    print(arr)\n",
    "        \n",
    "%time task_17()"
   ]
  },
  {
   "cell_type": "code",
   "execution_count": 34,
   "id": "2f55c3ed-e020-4ff4-be71-c1f815d4b428",
   "metadata": {},
   "outputs": [
    {
     "name": "stdin",
     "output_type": "stream",
     "text": [
      "Enter n:  10\n"
     ]
    },
    {
     "name": "stdout",
     "output_type": "stream",
     "text": [
      "[  0  -1  -2  -3  -4   5   6   7  -8  -9 -10]\n",
      "CPU times: total: 0 ns\n",
      "Wall time: 1.64 s\n"
     ]
    }
   ],
   "source": [
    "import numpy as np\n",
    "\n",
    "def task_17():\n",
    "    n = int(input(\"Enter n: \"))\n",
    "    \n",
    "    arr = np.arange(n+1)\n",
    "    arr[(arr < n/2) | (arr > 3*n/4)] *= -1\n",
    "    \n",
    "    print(arr)\n",
    "    \n",
    "%time task_17()"
   ]
  },
  {
   "cell_type": "markdown",
   "id": "a30fc5b8-c34f-4bd9-8e5a-3038aa85de31",
   "metadata": {},
   "source": [
    "## Вправа 18 \n",
    "### Згенерувати вектор з n випадкових чисел в діапазоні від 0 до 99. Визначити кількість унікальних чисел в послідовності."
   ]
  },
  {
   "cell_type": "code",
   "execution_count": 60,
   "id": "5fa9fdfd-be16-40ed-b713-997af155fd4f",
   "metadata": {},
   "outputs": [
    {
     "name": "stdout",
     "output_type": "stream",
     "text": [
      "[49, 66, 96, 5, 90, 56, 79, 0, 36, 8, 0, 58, 73, 48, 32, 46, 71, 3, 56, 1, 20, 76, 73, 29, 42, 50, 97, 74, 38, 54]\n",
      "unique values:  27\n",
      "CPU times: total: 0 ns\n",
      "Wall time: 0 ns\n"
     ]
    }
   ],
   "source": [
    "def task_18(n):\n",
    "    array = []\n",
    "    for i in range(n):\n",
    "        array.append(random.randint(0, 100))\n",
    "    print(array)\n",
    "    list_set = set(array)\n",
    "    return len(list_set)\n",
    "\n",
    "%time print(\"unique values: \", task_18(30))"
   ]
  },
  {
   "cell_type": "code",
   "execution_count": 52,
   "id": "6560e3ae-31f6-4308-8c31-3e5f0d3baedb",
   "metadata": {},
   "outputs": [
    {
     "name": "stdout",
     "output_type": "stream",
     "text": [
      "[99 92 92  2 52 44 17  0 80 74 56 41 90 62 62  1 70 32 93 99 31 13 57 30\n",
      " 29 17 44 86 46 24]\n",
      "unique values:  25\n",
      "CPU times: total: 0 ns\n",
      "Wall time: 1 ms\n"
     ]
    }
   ],
   "source": [
    "import numpy as np\n",
    "\n",
    "def task_18(n):\n",
    "    array = np.random.randint(0, 100, n)\n",
    "    print(array)\n",
    "    return len(np.unique(array))\n",
    "\n",
    "%time print(\"unique values: \", task_18(30))"
   ]
  },
  {
   "cell_type": "markdown",
   "id": "949113da-6226-40b9-ae6e-d3c412344139",
   "metadata": {},
   "source": [
    "# Task 2"
   ]
  },
  {
   "cell_type": "markdown",
   "id": "17017284-2c26-41f8-802f-f51db76b1532",
   "metadata": {},
   "source": [
    "## Завдання 2\r\n",
    "### Розв'язати систему алгебраїчних рівнянь за допомогою формул Крамера і виконати перевірку за допомогою:\r\n",
    "- матричного множення\r\n",
    "- оберненої матриці\r\n",
    "- функції numpy.linalg.solve()\r\n",
    "\r\n",
    "### Порівняти всі рішення за допомогою функції numpy.allclose().\r\n",
    "### Матричне представлення системи лінійних алгебраїчних рівнянь та розв'язок:\r\n",
    "\r\n",
    "\\[\r\n",
    "\\begin{align*}\r\n",
    "1x_1 + 5x_2 + 3x_3 - 4x_4 &= 20 \\\\\r\n",
    "3x_1 + 1x_2 - 2x_3 + 0x_4 &= 9 \\\\\r\n",
    "5x_1 - 7x_2 + 0x_3 + 10x_4 &= -9 \\\\\r\n",
    "0x_1 + 3x_2 - 5x_3 + 0x_4 &= 1 \\\\\r\n",
    "\\end{align*}\r\n",
    "\\]\r\n",
    "нь та розв'язок:\r\n",
    "\n",
    "### Порівняти всі рішення за допомогою функції numpy.allclose().\n",
    "\n",
    "### Матричне представлення системи лінійних алгебраїчних рівнянь та розв'язок:"
   ]
  },
  {
   "cell_type": "code",
   "execution_count": 77,
   "id": "41da2a3b-c327-4521-9c4a-699e42ca36ac",
   "metadata": {},
   "outputs": [
    {
     "name": "stdout",
     "output_type": "stream",
     "text": [
      "Result of Cramer's method: [ 3.  2.  1. -1.]\n",
      "Result of using numpy.linalg.solve(): [ 3.  2.  1. -1.]\n",
      "Check results: True\n",
      "\n",
      "Check using matrix multiplication: True\n",
      "Check using inverse matrix: True\n"
     ]
    }
   ],
   "source": [
    "left = np.array([\n",
    "    [1, 5, 3, -4],\n",
    "    [3,  1,  -2, 0],\n",
    "    [5, -7, 0, 10],\n",
    "    [0, 3, -5, 0]\n",
    "])\n",
    "\n",
    "right = np.array([20, 9, -9, 1])\n",
    "\n",
    "\n",
    "def cramers_solve(left, right):\n",
    "    length = len(right)\n",
    "    determinant = np.linalg.det(left)\n",
    "    solution = np.zeros(length)\n",
    "    \n",
    "    if np.allclose(determinant, 0):\n",
    "        print(\"Determinant is zero, there's no solution of given equation.\")\n",
    "        return solution\n",
    "    \n",
    "    for i in range(length):\n",
    "        modified_left = np.copy(left)\n",
    "        modified_left[:, i] = np.copy(right)\n",
    "        solution[i] = np.linalg.det(modified_left) / determinant\n",
    "    \n",
    "    return solution\n",
    "\n",
    "cramer_result = cramers_solve(left, right)\n",
    "numpy_result = np.linalg.solve(left, right)\n",
    "multiplication_check = np.dot(left, cramer_result)\n",
    "inverse_matrix_check = np.dot(np.linalg.inv(left), right)\n",
    "\n",
    "print(f\"Result of Cramer's method: {cramer_result}\") \n",
    "print(f\"Result of using numpy.linalg.solve(): {numpy_result}\")\n",
    "print(f\"Check results: {np.allclose(numpy_result, cramer_result)}\\n\")\n",
    "\n",
    "print(f\"Check using matrix multiplication: {np.allclose(right, multiplication_check)}\")\n",
    "print(f\"Check using inverse matrix: {np.allclose(inverse_matrix_check, cramer_result)}\")"
   ]
  },
  {
   "cell_type": "markdown",
   "id": "a5160613-8300-4a43-b345-dbf80d26f1f3",
   "metadata": {},
   "source": [
    "# Task 3"
   ]
  },
  {
   "cell_type": "markdown",
   "id": "8a7178ee-947e-4169-86b9-d82aaaeac8c9",
   "metadata": {},
   "source": [
    "# Обчислити значення матричного виразу\r\n",
    "$$\r\n",
    "(A - B^2)(2A + B), \\quad A = \r\n",
    "\\begin{bmatrix}\r\n",
    "    5 & 2 & 0 \\\\\r\n",
    "    10 & 4 & 1 \\\\\r\n",
    "    7 & 3 & 2 \\\\\r\n",
    "\\end{bmatrix},\r\n",
    "\\quad B = \r\n",
    "\\begin{bmatrix}\r\n",
    "    3 & 6 & -1 \\\\\r\n",
    "    -1 & -2 & 0 \\\\\r\n",
    "    2 & 1 & 3 \\\\\r\n",
    "\\end{bmatrix}\r\n",
    "$$\r\n",
    "bmatrix}\r\n",
    "\\]\r\n"
   ]
  },
  {
   "cell_type": "markdown",
   "id": "5b808a98-e43d-4b81-a8a7-197c6f4ba25e",
   "metadata": {},
   "source": [
    "- з використанням універсальних функцій бібліотеки NumPy.\n",
    "- за допомогою ітеративних конструкцій (з використанням\n",
    "циклів, спискових включень тощо).\n",
    "- для обох випадків підрахувати час виконання скрипту та\n",
    "зробити висновок."
   ]
  },
  {
   "cell_type": "code",
   "execution_count": 89,
   "id": "b7a8f3ed-3b5c-4a5f-a96b-b2e4f851165a",
   "metadata": {},
   "outputs": [],
   "source": [
    "A = [[5, 2, 0],\n",
    "     [10, 4, 1],\n",
    "     [7, 3, 2]]\n",
    "\n",
    "B = [[3, 6, -1],\n",
    "     [-1, -2, 0],\n",
    "     [2, 1, 3]]\n",
    "\n",
    "A_np = np.array(A)\n",
    "B_np = np.array(B)\n",
    "\n",
    "\n",
    "def multiplication(A, B):\n",
    "    a_rows, a_columns, b_rows, b_columns = len(A), len(A[0]), len(B), len(B[0])\n",
    "    result = []\n",
    "    if a_columns != b_rows:\n",
    "        print(\"Multiplication cannot be done because of different dimensions.\")\n",
    "        return result\n",
    "    \n",
    "    for i in range(a_rows):\n",
    "        new_row = []\n",
    "        for j in range(b_columns):\n",
    "            element_sum = 0\n",
    "            for k in range(a_columns):\n",
    "                element_sum += A[i][k] * B[k][j]\n",
    "            new_row.append(element_sum)\n",
    "        result.append(new_row)\n",
    "    \n",
    "    return result\n",
    "    \n",
    "def addition(A, B):\n",
    "    a_rows, a_columns, b_rows, b_columns = len(A), len(A[0]), len(B), len(B[0])\n",
    "    result = []\n",
    "    if a_rows != b_rows or a_columns != b_columns:\n",
    "        print(\"Addition cannot be done because of different dimensions.\")\n",
    "        return result\n",
    "    \n",
    "    for i in range(a_rows):\n",
    "        new_row = []\n",
    "        for j in range(a_columns):\n",
    "            new_row.append(A[i][j] + B[i][j])\n",
    "        result.append(new_row)\n",
    "    \n",
    "    return result\n",
    "\n",
    "def scalar_multiplication(a, A):\n",
    "    result = []\n",
    "    for i in range(len(A)):\n",
    "        new_row = []\n",
    "        for j in range(len(A[0])):\n",
    "            new_row.append(A[i][j] * a)\n",
    "        result.append(new_row)\n",
    "        \n",
    "    return result"
   ]
  },
  {
   "cell_type": "code",
   "execution_count": 96,
   "id": "bc1d6a38-9257-427a-b9bd-70e73064ca42",
   "metadata": {},
   "outputs": [
    {
     "name": "stdout",
     "output_type": "stream",
     "text": [
      "4.4 µs ± 1.12 µs per loop (mean ± std. dev. of 10 runs, 100 loops each)\n"
     ]
    }
   ],
   "source": [
    "%%timeit -n 100 -r 10\n",
    "numpy_result = (A_np - B_np @ B_np) @ (2 * A_np + B_np)"
   ]
  },
  {
   "cell_type": "code",
   "execution_count": 99,
   "id": "0cd34448-d0f4-456e-8372-8a69c5a4837f",
   "metadata": {},
   "outputs": [
    {
     "name": "stdout",
     "output_type": "stream",
     "text": [
      "10.8 µs ± 1.54 µs per loop (mean ± std. dev. of 10 runs, 100 loops each)\n"
     ]
    }
   ],
   "source": [
    "%%timeit -n 100 -r 10\n",
    "iterative_result = multiplication(addition(A, multiplication(scalar_multiplication(-1, B), B)), addition(scalar_multiplication(2, A), B))"
   ]
  },
  {
   "cell_type": "code",
   "execution_count": 100,
   "id": "0c599af3-e85c-4ccd-97f5-627e5008b50a",
   "metadata": {},
   "outputs": [
    {
     "data": {
      "text/plain": [
       "True"
      ]
     },
     "execution_count": 100,
     "metadata": {},
     "output_type": "execute_result"
    }
   ],
   "source": [
    "numpy_result = (A_np - B_np @ B_np) @ (2 * A_np + B_np)\n",
    "iterative_result = multiplication(addition(A, multiplication(scalar_multiplication(-1, B), B)), addition(scalar_multiplication(2, A), B))\n",
    "np.allclose(numpy_result, iterative_result)"
   ]
  }
 ],
 "metadata": {
  "kernelspec": {
   "display_name": "Python 3 (ipykernel)",
   "language": "python",
   "name": "python3"
  },
  "language_info": {
   "codemirror_mode": {
    "name": "ipython",
    "version": 3
   },
   "file_extension": ".py",
   "mimetype": "text/x-python",
   "name": "python",
   "nbconvert_exporter": "python",
   "pygments_lexer": "ipython3",
   "version": "3.11.1"
  }
 },
 "nbformat": 4,
 "nbformat_minor": 5
}
