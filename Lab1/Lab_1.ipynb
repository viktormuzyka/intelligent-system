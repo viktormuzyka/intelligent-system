{
 "cells": [
  {
   "cell_type": "markdown",
   "id": "6d0bc63c-3cfe-4acf-adde-4dd0c0f74d0c",
   "metadata": {
    "pycharm": {
     "name": "#%% md\n"
    }
   },
   "source": [
    "<font color=\"violet\"><h1> Йорда́нське Хашимі́тське Королі́вство </h1></font>"
   ]
  },
  {
   "cell_type": "markdown",
   "id": "2d44d07b-4048-4d3e-9fad-a95d69be4ff2",
   "metadata": {
    "pycharm": {
     "name": "#%% md\n"
    }
   },
   "source": [
    "---"
   ]
  },
  {
   "cell_type": "markdown",
   "id": "f2058df0-c4c7-4103-9e47-1cdad2a060c8",
   "metadata": {
    "pycharm": {
     "name": "#%% md\n"
    }
   },
   "source": [
    "### Площа\n",
    "- **Загалом** *<b style=\"color: red;\">89 342 км²</b>*\n",
    "- **Внутр. води** *<b style=\"color: brown;\">незначний %</b>*"
   ]
  },
  {
   "cell_type": "markdown",
   "id": "b715797a-dd57-4e84-af73-6426fda423f3",
   "metadata": {
    "pycharm": {
     "name": "#%% md\n"
    }
   },
   "source": [
    "---"
   ]
  },
  {
   "cell_type": "markdown",
   "id": "a1c4812c-2c09-4433-bf01-5db9f7f82af4",
   "metadata": {
    "pycharm": {
     "name": "#%% md\n"
    }
   },
   "source": [
    "### Населення\n",
    "- **Оцінка грудня 2011** *6,500,000*\n",
    "- **Перепис 2003** *4,755,000*\n",
    "- **Густота** *64/км²*"
   ]
  },
  {
   "cell_type": "markdown",
   "id": "b829a60d-628d-4cab-a50e-df3331feb58e",
   "metadata": {
    "pycharm": {
     "name": "#%% md\n"
    }
   },
   "source": [
    "---"
   ]
  },
  {
   "cell_type": "markdown",
   "id": "06e81359-ddfd-4b96-9529-d8a1f01c72fa",
   "metadata": {
    "pycharm": {
     "name": "#%% md\n"
    }
   },
   "source": [
    "### Державний устрій\n",
    "- **Форма правління** *конституційна монархія*\n",
    "- **Король** *[Абдалла II](https://uk.wikipedia.org/wiki/%D0%90%D0%B1%D0%B4%D0%B0%D0%BB%D0%BB%D0%B0_II)*\n",
    "- **Прем'єр-міністр** *[Бішер аль-Хасауна](https://uk.wikipedia.org/wiki/%D0%91%D1%96%D1%88%D0%B5%D1%80_%D0%B0%D0%BB%D1%8C-%D0%A5%D0%B0%D1%81%D0%B0%D1%83%D0%BD%D0%B0)*"
   ]
  },
  {
   "cell_type": "markdown",
   "id": "9845c2b6-8212-4ee7-82bc-07d488bb279e",
   "metadata": {
    "pycharm": {
     "name": "#%% md\n"
    }
   },
   "source": [
    "---"
   ]
  },
  {
   "cell_type": "markdown",
   "id": "7f64bf07-e9b4-4fcf-931f-44798e74a313",
   "metadata": {
    "pycharm": {
     "name": "#%% md\n"
    }
   },
   "source": [
    "## Прапор Йорданії"
   ]
  },
  {
   "cell_type": "code",
   "execution_count": 1,
   "id": "d629573a-28e7-469b-827a-2c735aec61af",
   "metadata": {
    "pycharm": {
     "name": "#%%\n"
    },
    "scrolled": true
   },
   "outputs": [
    {
     "data": {
      "text/html": [
       "<svg xmlns=\"http://www.w3.org/2000/svg\" viewBox=\"0 0 840 420\">\n",
       "  <path fill=\"#007a3d\" d=\"M0 0h840v420H0z\"/>\n",
       "\n",
       "  <path fill=\"#fff\" d=\"M0 0h840v280H0z\"/>\n",
       "\n",
       "  <path d=\"M0 0h840v140H0z\"/>\n",
       "\n",
       "  <path d=\"M0 0v420l420-210z\" fill=\"#ce1126\"/>\n",
       "\n",
       "  <path d=\"M129.787 180l6.508 16.485 16.947-5.19-8.83 15.367 14.623 10.014-17.52 2.676 1.289 17.677L129.787 225l-13.016 12.03 1.289-17.678-17.52-2.676 14.623-10.014-8.83-15.367 16.946 5.19L129.787 180z\" fill=\"#fff\"/>\n",
       "</svg>\n"
      ],
      "text/plain": [
       "<IPython.core.display.HTML object>"
      ]
     },
     "metadata": {},
     "output_type": "display_data"
    }
   ],
   "source": [
    "%%HTML\n",
    "<svg xmlns=\"http://www.w3.org/2000/svg\" viewBox=\"0 0 840 420\">\n",
    "  <path fill=\"#007a3d\" d=\"M0 0h840v420H0z\"/>\n",
    "\n",
    "  <path fill=\"#fff\" d=\"M0 0h840v280H0z\"/>\n",
    "\n",
    "  <path d=\"M0 0h840v140H0z\"/>\n",
    "\n",
    "  <path d=\"M0 0v420l420-210z\" fill=\"#ce1126\"/>\n",
    "\n",
    "  <path d=\"M129.787 180l6.508 16.485 16.947-5.19-8.83 15.367 14.623 10.014-17.52 2.676 1.289 17.677L129.787 225l-13.016 12.03 1.289-17.678-17.52-2.676 14.623-10.014-8.83-15.367 16.946 5.19L129.787 180z\" fill=\"#fff\"/>\n",
    "</svg>\n"
   ]
  },
  {
   "cell_type": "markdown",
   "id": "15f1eb53-9cd8-47ae-997a-0b7512351c94",
   "metadata": {
    "pycharm": {
     "name": "#%% md\n"
    }
   },
   "source": [
    "---"
   ]
  },
  {
   "cell_type": "markdown",
   "id": "c4bfe412-501e-4be4-a57a-1a168a38a05c",
   "metadata": {
    "pycharm": {
     "name": "#%% md\n"
    }
   },
   "source": [
    "## Видатні особистості Йорданії\n",
    "|Ім'я | Діяльність | Фото |\n",
    "|:----------|:-----------------------------------------------------------------------|:-----------------:|   \n",
    "|[Абдалла ІІ бін аль-Хусейн](https://uk.wikipedia.org/wiki/%D0%90%D0%B1%D0%B4%D0%B0%D0%BB%D0%BB%D0%B0_II)| Король Йорданії з 1999 року.|![photo](King_Abdullah_II.jpg)|\n",
    "|[Іман Мутлак](https://en.wikipedia.org/wiki/Iman_Mutlaq)|Йорданська підприємеця, бізнес-леді, фінансистка і громадська діячка. Вона є засновницею і президенткою транснаціональних фінансових компаній; Sigma Investments Group та INGOT Group.|![photo](Iman_Mutlaq.jpg)|\n",
    "|[Сулейман Муса](https://en.wikipedia.org/wiki/Suleiman_Mousa)|Йорданський письменник та історик.|![photo](Suleiman_Mousa_typewriter.jpg)|"
   ]
  },
  {
   "cell_type": "markdown",
   "id": "103b5f6e-1952-4561-96e1-9d2e7135af9e",
   "metadata": {
    "pycharm": {
     "name": "#%% md\n"
    }
   },
   "source": [
    "---"
   ]
  },
  {
   "cell_type": "markdown",
   "id": "7a7b20d7-e4a5-413b-9904-521e715bdb33",
   "metadata": {
    "pycharm": {
     "name": "#%% md\n"
    }
   },
   "source": [
    "## Пам'ятки Йорданії"
   ]
  },
  {
   "cell_type": "markdown",
   "id": "96a1ac8c-536e-4d79-94f7-73f6ef7d3fdb",
   "metadata": {
    "pycharm": {
     "name": "#%% md\n"
    }
   },
   "source": [
    "- #### Ваді-Рам\n",
    "<div style=\"margin: 7px 0; padding: 5px; border: solid blue; border-radius: 7px;\">\n",
    "    <p>Пустеля, непідвладна часу. Вітер та сонце створили унікальні пейзажі. Крім того, це те місце, де, якщо вірити легендам, хрестили Ісуса (річка Йордан). Тут знаходяться мінеральні джерела, де відпочивав цар Іудеї Ірод Великий і печера, в якій ховався Лот зі своїми доньками після падіння Содома та Гоморри.</p>\n",
    "</div>\n",
    "\n",
    "![photo](https://panukraine.ua/catalog/city/wadi-rum/wadi-rum.jpg) "
   ]
  },
  {
   "cell_type": "markdown",
   "id": "2c27cb2a-6dec-457a-829b-ce2990ad9a8b",
   "metadata": {
    "pycharm": {
     "name": "#%% md\n"
    }
   },
   "source": [
    "- #### Гора Небо\n",
    "<div style=\"margin: 7px 0; padding: 5px; border: solid gray; border-radius: 7px;\">\n",
    "    <p>Гора Небо – в Йорданії вважається святим місцем. Це місце згадується в Біблії і вважається місцем смерті Мойсея.</p>\n",
    "</div>\n",
    "\n",
    "![photo](https://encrypted-tbn0.gstatic.com/licensed-image?q=tbn:ANd9GcTo7KYLQKh-ejo7JM3OS1N84CEKzMLiaVIg_Q-RCpuFNZyFqC3aF-pUmM3dTbDEiHzmP59uqk-0jvZwuXvfKlJT8oZD8JxqXgacH_wJOA) "
   ]
  },
  {
   "cell_type": "markdown",
   "id": "24b13df7-7bcb-4a68-a3f3-84b7e5d22a09",
   "metadata": {
    "pycharm": {
     "name": "#%% md\n"
    }
   },
   "source": [
    "- #### Джераш\n",
    "<div style=\"margin: 7px 0; padding: 5px; border: solid yellow; border-radius: 7px;\">\n",
    "    <p>Римське місто, розташоване в долині, оточене лісистими пагорбами та долинами. Сьогодні воно вважається одним з найбільш зберегшихся провінційних римських міст у світі.</p>\n",
    "</div>\n",
    "\n",
    "![photo](https://encrypted-tbn1.gstatic.com/licensed-image?q=tbn:ANd9GcQY6to60ftp25GXQMIKwfrhhNLwwcspFgP3QV6PNmFNv214uyaAAuNg33LDIE2aBXkMJQ_4Scp899zTPFYkFYVfAXBfPtFiEfxX-ltrJQ)"
   ]
  },
  {
   "cell_type": "markdown",
   "id": "fd77a4f5-1e58-4b4e-9834-260946f91366",
   "metadata": {
    "pycharm": {
     "name": "#%% md\n"
    }
   },
   "source": [
    "- #### Мертве море\n",
    "<div style=\"margin: 7px 0; padding: 5px; border: solid purple; border-radius: 7px;\">\n",
    "    <p>Саме в Йорданії в це водоймище впадає річка Йордан. Саме тут поверхнею вод ходять високі хвилі. А окрім лікарень та санаторіїв море може порадувати гостей дивовижними краєвидами узбережжя.</p>\n",
    "</div>\n",
    "\n",
    "![photo](https://lh5.googleusercontent.com/p/AF1QipOsJwtJV_Wgod9IGILUxYdyL2JU-4U0q_UUVyFD=w810-h468-n-k-no) "
   ]
  },
  {
   "cell_type": "markdown",
   "id": "041623b5-2cfa-4326-b096-a1c726f00b0e",
   "metadata": {
    "pycharm": {
     "name": "#%% md\n"
    }
   },
   "source": [
    "- #### Цитадель Аммана \n",
    "<div style=\"margin: 7px 0; padding: 5px; border: solid violet; border-radius: 7px;\">\n",
    "    <p>Справжнє серце країни та столиці, яка раніше називалася Філадельфія. Це великий комплекс, справжня фортечна гора, і він буде цікавим для всіх любителів історії.</p>\n",
    "</div>\n",
    "\n",
    "![photo](https://acorjordan.org/wp-content/uploads/2020/08/Citadel2.png)"
   ]
  },
  {
   "cell_type": "code",
   "execution_count": 3,
   "id": "f7687620-a9a1-4fdb-ab04-00d00b23cbff",
   "metadata": {
    "pycharm": {
     "name": "#%%\n"
    }
   },
   "outputs": [],
   "source": [
    "def is_prime(n):\n",
    "    if n < 2:\n",
    "        return False\n",
    "    for i in range(2, int(n**0.5) + 1):\n",
    "        if n % i == 0:\n",
    "            return False\n",
    "    return True\n",
    "\n",
    "def task_6():\n",
    "    a, b = map(int, input().split())\n",
    "    \n",
    "    prime_numbers = [num for num in range(a, b + 1) if is_prime(num)]\n",
    "    \n",
    "    return prime_numbers"
   ]
  },
  {
   "cell_type": "code",
   "execution_count": 6,
   "id": "976187af-076b-461c-b181-551496486078",
   "metadata": {
    "pycharm": {
     "name": "#%%\n"
    }
   },
   "outputs": [
    {
     "name": "stdin",
     "output_type": "stream",
     "text": [
      " 19 23\n"
     ]
    },
    {
     "data": {
      "text/plain": [
       "[19, 23]"
      ]
     },
     "execution_count": 6,
     "metadata": {},
     "output_type": "execute_result"
    }
   ],
   "source": [
    "task_6()"
   ]
  },
  {
   "cell_type": "code",
   "execution_count": 4,
   "id": "aa1c43ea-76b2-440a-b336-27518043d3c4",
   "metadata": {},
   "outputs": [
    {
     "name": "stdin",
     "output_type": "stream",
     "text": [
      " 1 3\n"
     ]
    },
    {
     "data": {
      "text/plain": [
       "[2, 3]"
      ]
     },
     "execution_count": 4,
     "metadata": {},
     "output_type": "execute_result"
    }
   ],
   "source": [
    "task_6()"
   ]
  },
  {
   "cell_type": "code",
   "execution_count": 5,
   "id": "1c079367-999b-441d-81d8-aa7f01e23b1a",
   "metadata": {},
   "outputs": [
    {
     "name": "stdin",
     "output_type": "stream",
     "text": [
      " 10 20\n"
     ]
    },
    {
     "data": {
      "text/plain": [
       "[11, 13, 17, 19]"
      ]
     },
     "execution_count": 5,
     "metadata": {},
     "output_type": "execute_result"
    }
   ],
   "source": [
    "task_6()"
   ]
  },
  {
   "cell_type": "code",
   "execution_count": null,
   "id": "81a01172-214b-41e7-a51a-1aa159e226a5",
   "metadata": {},
   "outputs": [],
   "source": []
  }
 ],
 "metadata": {
  "kernelspec": {
   "display_name": "Python 3 (ipykernel)",
   "language": "python",
   "name": "python3"
  },
  "language_info": {
   "codemirror_mode": {
    "name": "ipython",
    "version": 3
   },
   "file_extension": ".py",
   "mimetype": "text/x-python",
   "name": "python",
   "nbconvert_exporter": "python",
   "pygments_lexer": "ipython3",
   "version": "3.11.1"
  }
 },
 "nbformat": 4,
 "nbformat_minor": 5
}
