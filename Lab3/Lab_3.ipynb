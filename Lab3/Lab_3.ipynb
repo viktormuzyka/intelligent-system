{
 "cells": [
  {
   "cell_type": "markdown",
   "id": "fa6763ff-8ca0-4d7b-80fe-8e45a9e0baa3",
   "metadata": {},
   "source": [
    "<h1>Complete tasks using Pandas</h1>"
   ]
  },
  {
   "cell_type": "code",
   "execution_count": 9,
   "id": "5da81764-8618-4f8d-8210-96356b36df9c",
   "metadata": {},
   "outputs": [],
   "source": [
    "import string\n",
    "import random\n",
    "import pandas as pd\n",
    "import numpy as np\n",
    "\n",
    "df = pd.read_csv('./NationalNames.csv')"
   ]
  },
  {
   "cell_type": "markdown",
   "id": "7470bb5b-2d49-45e8-9aa6-a8ae78b38d0a",
   "metadata": {},
   "source": [
    "<h2>1. Виведіть перші 8 рядків набору даних.</h2>"
   ]
  },
  {
   "cell_type": "code",
   "execution_count": 10,
   "id": "7b2b8bec-2edb-4d82-a15f-ec1b7da9a31a",
   "metadata": {},
   "outputs": [
    {
     "data": {
      "text/html": [
       "<div>\n",
       "<style scoped>\n",
       "    .dataframe tbody tr th:only-of-type {\n",
       "        vertical-align: middle;\n",
       "    }\n",
       "\n",
       "    .dataframe tbody tr th {\n",
       "        vertical-align: top;\n",
       "    }\n",
       "\n",
       "    .dataframe thead th {\n",
       "        text-align: right;\n",
       "    }\n",
       "</style>\n",
       "<table border=\"1\" class=\"dataframe\">\n",
       "  <thead>\n",
       "    <tr style=\"text-align: right;\">\n",
       "      <th></th>\n",
       "      <th>Id</th>\n",
       "      <th>Name</th>\n",
       "      <th>Year</th>\n",
       "      <th>Gender</th>\n",
       "      <th>Count</th>\n",
       "    </tr>\n",
       "  </thead>\n",
       "  <tbody>\n",
       "    <tr>\n",
       "      <th>0</th>\n",
       "      <td>1</td>\n",
       "      <td>Mary</td>\n",
       "      <td>1880</td>\n",
       "      <td>F</td>\n",
       "      <td>7065</td>\n",
       "    </tr>\n",
       "    <tr>\n",
       "      <th>1</th>\n",
       "      <td>2</td>\n",
       "      <td>Anna</td>\n",
       "      <td>1880</td>\n",
       "      <td>F</td>\n",
       "      <td>2604</td>\n",
       "    </tr>\n",
       "    <tr>\n",
       "      <th>2</th>\n",
       "      <td>3</td>\n",
       "      <td>Emma</td>\n",
       "      <td>1880</td>\n",
       "      <td>F</td>\n",
       "      <td>2003</td>\n",
       "    </tr>\n",
       "    <tr>\n",
       "      <th>3</th>\n",
       "      <td>4</td>\n",
       "      <td>Elizabeth</td>\n",
       "      <td>1880</td>\n",
       "      <td>F</td>\n",
       "      <td>1939</td>\n",
       "    </tr>\n",
       "    <tr>\n",
       "      <th>4</th>\n",
       "      <td>5</td>\n",
       "      <td>Minnie</td>\n",
       "      <td>1880</td>\n",
       "      <td>F</td>\n",
       "      <td>1746</td>\n",
       "    </tr>\n",
       "    <tr>\n",
       "      <th>5</th>\n",
       "      <td>6</td>\n",
       "      <td>Margaret</td>\n",
       "      <td>1880</td>\n",
       "      <td>F</td>\n",
       "      <td>1578</td>\n",
       "    </tr>\n",
       "    <tr>\n",
       "      <th>6</th>\n",
       "      <td>7</td>\n",
       "      <td>Ida</td>\n",
       "      <td>1880</td>\n",
       "      <td>F</td>\n",
       "      <td>1472</td>\n",
       "    </tr>\n",
       "    <tr>\n",
       "      <th>7</th>\n",
       "      <td>8</td>\n",
       "      <td>Alice</td>\n",
       "      <td>1880</td>\n",
       "      <td>F</td>\n",
       "      <td>1414</td>\n",
       "    </tr>\n",
       "  </tbody>\n",
       "</table>\n",
       "</div>"
      ],
      "text/plain": [
       "   Id       Name  Year Gender  Count\n",
       "0   1       Mary  1880      F   7065\n",
       "1   2       Anna  1880      F   2604\n",
       "2   3       Emma  1880      F   2003\n",
       "3   4  Elizabeth  1880      F   1939\n",
       "4   5     Minnie  1880      F   1746\n",
       "5   6   Margaret  1880      F   1578\n",
       "6   7        Ida  1880      F   1472\n",
       "7   8      Alice  1880      F   1414"
      ]
     },
     "execution_count": 10,
     "metadata": {},
     "output_type": "execute_result"
    }
   ],
   "source": [
    "df[:8]\n"
   ]
  },
  {
   "cell_type": "markdown",
   "id": "12c517e4-8336-4adc-8ba6-f5365b73bb9b",
   "metadata": {},
   "source": [
    "<h2>2. Вивести останні 8 рядків набору даних.</h2>"
   ]
  },
  {
   "cell_type": "code",
   "execution_count": 11,
   "id": "aa15b3e3-f249-42e8-9bca-07f2f4b11421",
   "metadata": {},
   "outputs": [
    {
     "data": {
      "text/html": [
       "<div>\n",
       "<style scoped>\n",
       "    .dataframe tbody tr th:only-of-type {\n",
       "        vertical-align: middle;\n",
       "    }\n",
       "\n",
       "    .dataframe tbody tr th {\n",
       "        vertical-align: top;\n",
       "    }\n",
       "\n",
       "    .dataframe thead th {\n",
       "        text-align: right;\n",
       "    }\n",
       "</style>\n",
       "<table border=\"1\" class=\"dataframe\">\n",
       "  <thead>\n",
       "    <tr style=\"text-align: right;\">\n",
       "      <th></th>\n",
       "      <th>Id</th>\n",
       "      <th>Name</th>\n",
       "      <th>Year</th>\n",
       "      <th>Gender</th>\n",
       "      <th>Count</th>\n",
       "    </tr>\n",
       "  </thead>\n",
       "  <tbody>\n",
       "    <tr>\n",
       "      <th>1825425</th>\n",
       "      <td>1825426</td>\n",
       "      <td>Zo</td>\n",
       "      <td>2014</td>\n",
       "      <td>M</td>\n",
       "      <td>5</td>\n",
       "    </tr>\n",
       "    <tr>\n",
       "      <th>1825426</th>\n",
       "      <td>1825427</td>\n",
       "      <td>Zyeir</td>\n",
       "      <td>2014</td>\n",
       "      <td>M</td>\n",
       "      <td>5</td>\n",
       "    </tr>\n",
       "    <tr>\n",
       "      <th>1825427</th>\n",
       "      <td>1825428</td>\n",
       "      <td>Zyel</td>\n",
       "      <td>2014</td>\n",
       "      <td>M</td>\n",
       "      <td>5</td>\n",
       "    </tr>\n",
       "    <tr>\n",
       "      <th>1825428</th>\n",
       "      <td>1825429</td>\n",
       "      <td>Zykeem</td>\n",
       "      <td>2014</td>\n",
       "      <td>M</td>\n",
       "      <td>5</td>\n",
       "    </tr>\n",
       "    <tr>\n",
       "      <th>1825429</th>\n",
       "      <td>1825430</td>\n",
       "      <td>Zymeer</td>\n",
       "      <td>2014</td>\n",
       "      <td>M</td>\n",
       "      <td>5</td>\n",
       "    </tr>\n",
       "    <tr>\n",
       "      <th>1825430</th>\n",
       "      <td>1825431</td>\n",
       "      <td>Zymiere</td>\n",
       "      <td>2014</td>\n",
       "      <td>M</td>\n",
       "      <td>5</td>\n",
       "    </tr>\n",
       "    <tr>\n",
       "      <th>1825431</th>\n",
       "      <td>1825432</td>\n",
       "      <td>Zyran</td>\n",
       "      <td>2014</td>\n",
       "      <td>M</td>\n",
       "      <td>5</td>\n",
       "    </tr>\n",
       "    <tr>\n",
       "      <th>1825432</th>\n",
       "      <td>1825433</td>\n",
       "      <td>Zyrin</td>\n",
       "      <td>2014</td>\n",
       "      <td>M</td>\n",
       "      <td>5</td>\n",
       "    </tr>\n",
       "  </tbody>\n",
       "</table>\n",
       "</div>"
      ],
      "text/plain": [
       "              Id     Name  Year Gender  Count\n",
       "1825425  1825426       Zo  2014      M      5\n",
       "1825426  1825427    Zyeir  2014      M      5\n",
       "1825427  1825428     Zyel  2014      M      5\n",
       "1825428  1825429   Zykeem  2014      M      5\n",
       "1825429  1825430   Zymeer  2014      M      5\n",
       "1825430  1825431  Zymiere  2014      M      5\n",
       "1825431  1825432    Zyran  2014      M      5\n",
       "1825432  1825433    Zyrin  2014      M      5"
      ]
     },
     "execution_count": 11,
     "metadata": {},
     "output_type": "execute_result"
    }
   ],
   "source": [
    "df[-8:]"
   ]
  },
  {
   "cell_type": "markdown",
   "id": "598b4633-a8db-4184-bb5d-9cb1c290ece4",
   "metadata": {},
   "source": [
    "<h2>3. Отримайте імена стовпців набору даних</h2>"
   ]
  },
  {
   "cell_type": "code",
   "execution_count": 13,
   "id": "5c86eecd-2c98-48d5-8a47-2ff5ba3a3396",
   "metadata": {},
   "outputs": [
    {
     "data": {
      "text/plain": [
       "Index(['Id', 'Name', 'Year', 'Gender', 'Count'], dtype='object')"
      ]
     },
     "execution_count": 13,
     "metadata": {},
     "output_type": "execute_result"
    }
   ],
   "source": [
    "df.columns"
   ]
  },
  {
   "cell_type": "markdown",
   "id": "13d81ab4-43f1-487d-ba69-555a281bbd07",
   "metadata": {},
   "source": [
    "<h2>5. Знайдіть кількість унікальних імен у наборі даних</h2>"
   ]
  },
  {
   "cell_type": "code",
   "execution_count": 15,
   "id": "08523869-2fb3-4c78-ac07-2f43edf3b71d",
   "metadata": {},
   "outputs": [
    {
     "data": {
      "text/plain": [
       "93889"
      ]
     },
     "execution_count": 15,
     "metadata": {},
     "output_type": "execute_result"
    }
   ],
   "source": [
    "df['Name'].nunique()"
   ]
  },
  {
   "cell_type": "markdown",
   "id": "9af3400c-80cd-460c-a48b-a8242465651e",
   "metadata": {},
   "source": [
    "<h2>10. Підрахуйте кількість унікальних імен у кожному році</h2>"
   ]
  },
  {
   "cell_type": "code",
   "execution_count": 16,
   "id": "5050e2d6-a38c-44b9-8b02-ade80a6426fa",
   "metadata": {},
   "outputs": [
    {
     "data": {
      "text/plain": [
       "Year\n",
       "1880    1889\n",
       "1881    1830\n",
       "1882    2012\n",
       "1883    1962\n",
       "1884    2158\n",
       "Name: Name, dtype: int64"
      ]
     },
     "execution_count": 16,
     "metadata": {},
     "output_type": "execute_result"
    }
   ],
   "source": [
    "df.groupby('Year')['Name'].nunique().head()"
   ]
  },
  {
   "cell_type": "markdown",
   "id": "857f4720-71f5-45cd-b577-28d0a8df4166",
   "metadata": {},
   "source": [
    "<h2>11. Знайдіть рік із найбільшою кількістю унікальних імен.</h2>"
   ]
  },
  {
   "cell_type": "code",
   "execution_count": 17,
   "id": "99d103cb-04fc-401e-8a79-b7860571595d",
   "metadata": {},
   "outputs": [
    {
     "data": {
      "text/plain": [
       "Year\n",
       "2008    32488\n",
       "Name: Name, dtype: int64"
      ]
     },
     "execution_count": 17,
     "metadata": {},
     "output_type": "execute_result"
    }
   ],
   "source": [
    "df.groupby('Year')['Name'].nunique().sort_values(ascending=False).head(1)"
   ]
  },
  {
   "cell_type": "markdown",
   "id": "c684b7f9-def9-40c7-a624-fd7417539952",
   "metadata": {},
   "source": [
    "<h2>12. Знайдіть найпопулярніше ім’я в році з найбільшою кількістю\n",
    "унікальних імен (тобто у 2008 році)</h2>"
   ]
  },
  {
   "cell_type": "code",
   "execution_count": 18,
   "id": "2e8980a2-dfd2-4fa8-9049-ec7a3f207438",
   "metadata": {},
   "outputs": [
    {
     "data": {
      "text/plain": [
       "'Jacob'"
      ]
     },
     "execution_count": 18,
     "metadata": {},
     "output_type": "execute_result"
    }
   ],
   "source": [
    "year_max_unique = df.groupby('Year')['Name'].nunique().idxmax()\n",
    "df[df['Year'] == year_max_unique].sort_values('Count', ascending=False).iloc[0]['Name']"
   ]
  },
  {
   "cell_type": "markdown",
   "id": "dc181ffe-b587-4fe3-bb2f-d1d9ce694a12",
   "metadata": {},
   "source": [
    "<h2>13. Знайдіть рік, коли ім’я “Jacob” було найпопулярнішим серед\n",
    "жіночих імен</h2>"
   ]
  },
  {
   "cell_type": "code",
   "execution_count": 30,
   "id": "f47b2523-538c-4483-a7da-42b9ed28f6ec",
   "metadata": {},
   "outputs": [
    {
     "data": {
      "text/html": [
       "<div>\n",
       "<style scoped>\n",
       "    .dataframe tbody tr th:only-of-type {\n",
       "        vertical-align: middle;\n",
       "    }\n",
       "\n",
       "    .dataframe tbody tr th {\n",
       "        vertical-align: top;\n",
       "    }\n",
       "\n",
       "    .dataframe thead th {\n",
       "        text-align: right;\n",
       "    }\n",
       "</style>\n",
       "<table border=\"1\" class=\"dataframe\">\n",
       "  <thead>\n",
       "    <tr style=\"text-align: right;\">\n",
       "      <th></th>\n",
       "      <th>Id</th>\n",
       "      <th>Name</th>\n",
       "      <th>Year</th>\n",
       "      <th>Gender</th>\n",
       "      <th>Count</th>\n",
       "    </tr>\n",
       "  </thead>\n",
       "  <tbody>\n",
       "    <tr>\n",
       "      <th>1455556</th>\n",
       "      <td>1455557</td>\n",
       "      <td>Jacob</td>\n",
       "      <td>2004</td>\n",
       "      <td>F</td>\n",
       "      <td>171</td>\n",
       "    </tr>\n",
       "  </tbody>\n",
       "</table>\n",
       "</div>"
      ],
      "text/plain": [
       "              Id   Name  Year Gender  Count\n",
       "1455556  1455557  Jacob  2004      F    171"
      ]
     },
     "execution_count": 30,
     "metadata": {},
     "output_type": "execute_result"
    }
   ],
   "source": [
    "female_df = df[df['Gender'] == 'F']\n",
    "jacob_df = female_df[female_df['Name'] == 'Jacob']\n",
    "jacob_df.sort_values('Count', ascending=False).head(1)"
   ]
  },
  {
   "cell_type": "markdown",
   "id": "4867cc5d-ca56-43bf-a10b-9e449d344807",
   "metadata": {},
   "source": [
    "<h2>14. Знайти рік із найбільшою кількістю гендерно нейтральних імен\n",
    "(однакові чоловічі та жіночі імена)</h2>"
   ]
  },
  {
   "cell_type": "code",
   "execution_count": 29,
   "id": "7b76620d-8d58-4c3c-a0bf-ab85acfca1f0",
   "metadata": {},
   "outputs": [
    {
     "data": {
      "text/plain": [
       "Year\n",
       "2008    2557\n",
       "Name: Count, dtype: int64"
      ]
     },
     "execution_count": 29,
     "metadata": {},
     "output_type": "execute_result"
    }
   ],
   "source": [
    "male_names = df[df['Gender'] == 'M'].groupby(['Year', 'Name'])['Count'].sum()\n",
    "female_names = df[df['Gender'] == 'F'].groupby(['Year', 'Name'])['Count'].sum()\n",
    "gender_neutral_names = male_names.index.intersection(female_names.index)\n",
    "male_names = male_names.loc[gender_neutral_names]\n",
    "gender_neutral_counts = male_names.groupby(level=0).count()\n",
    "gender_neutral_counts.sort_values(ascending=False).head(1)"
   ]
  },
  {
   "cell_type": "markdown",
   "id": "edea298d-3c6a-4913-9044-f5740d51b1d2",
   "metadata": {},
   "source": [
    "<h2>15. Знайдіть загальну кількість народжень за рік.</h2>"
   ]
  },
  {
   "cell_type": "code",
   "execution_count": 31,
   "id": "cbdd92af-6f19-42ed-970c-ea0afd2911ad",
   "metadata": {},
   "outputs": [
    {
     "data": {
      "text/plain": [
       "Year\n",
       "1880    201484\n",
       "1881    192699\n",
       "1882    221538\n",
       "1883    216950\n",
       "1884    243467\n",
       "Name: Count, dtype: int64"
      ]
     },
     "execution_count": 31,
     "metadata": {},
     "output_type": "execute_result"
    }
   ],
   "source": [
    "df.groupby('Year')['Count'].sum().head()"
   ]
  },
  {
   "cell_type": "markdown",
   "id": "0201d646-cc3b-48c7-8cd7-e33f85d20270",
   "metadata": {},
   "source": [
    "<h2>16. Знайдіть рік, коли народилося найбільше дітей</h2>"
   ]
  },
  {
   "cell_type": "code",
   "execution_count": 32,
   "id": "fc931445-5e58-48c2-aa52-5d0ab9a7b6f5",
   "metadata": {},
   "outputs": [
    {
     "data": {
      "text/plain": [
       "1957"
      ]
     },
     "execution_count": 32,
     "metadata": {},
     "output_type": "execute_result"
    }
   ],
   "source": [
    "df.groupby('Year')['Count'].sum().idxmax()"
   ]
  },
  {
   "cell_type": "markdown",
   "id": "aa0d1169-f9a6-4189-9a6d-53ccb3b037b1",
   "metadata": {},
   "source": [
    "<h2>17. Знайдіть кількість дівчаток та хлопчиків, які народились кожного</h2>"
   ]
  },
  {
   "cell_type": "code",
   "execution_count": 33,
   "id": "833d9f07-3d4b-48d7-925a-5f8428958679",
   "metadata": {},
   "outputs": [
    {
     "data": {
      "text/html": [
       "<div>\n",
       "<style scoped>\n",
       "    .dataframe tbody tr th:only-of-type {\n",
       "        vertical-align: middle;\n",
       "    }\n",
       "\n",
       "    .dataframe tbody tr th {\n",
       "        vertical-align: top;\n",
       "    }\n",
       "\n",
       "    .dataframe thead th {\n",
       "        text-align: right;\n",
       "    }\n",
       "</style>\n",
       "<table border=\"1\" class=\"dataframe\">\n",
       "  <thead>\n",
       "    <tr style=\"text-align: right;\">\n",
       "      <th>Gender</th>\n",
       "      <th>F</th>\n",
       "      <th>M</th>\n",
       "    </tr>\n",
       "    <tr>\n",
       "      <th>Year</th>\n",
       "      <th></th>\n",
       "      <th></th>\n",
       "    </tr>\n",
       "  </thead>\n",
       "  <tbody>\n",
       "    <tr>\n",
       "      <th>1880</th>\n",
       "      <td>90993</td>\n",
       "      <td>110491</td>\n",
       "    </tr>\n",
       "    <tr>\n",
       "      <th>1881</th>\n",
       "      <td>91954</td>\n",
       "      <td>100745</td>\n",
       "    </tr>\n",
       "    <tr>\n",
       "      <th>1882</th>\n",
       "      <td>107850</td>\n",
       "      <td>113688</td>\n",
       "    </tr>\n",
       "    <tr>\n",
       "      <th>1883</th>\n",
       "      <td>112321</td>\n",
       "      <td>104629</td>\n",
       "    </tr>\n",
       "    <tr>\n",
       "      <th>1884</th>\n",
       "      <td>129022</td>\n",
       "      <td>114445</td>\n",
       "    </tr>\n",
       "  </tbody>\n",
       "</table>\n",
       "</div>"
      ],
      "text/plain": [
       "Gender       F       M\n",
       "Year                  \n",
       "1880     90993  110491\n",
       "1881     91954  100745\n",
       "1882    107850  113688\n",
       "1883    112321  104629\n",
       "1884    129022  114445"
      ]
     },
     "execution_count": 33,
     "metadata": {},
     "output_type": "execute_result"
    }
   ],
   "source": [
    "df.groupby(['Year', 'Gender'])['Count'].sum().unstack().head()"
   ]
  },
  {
   "cell_type": "markdown",
   "id": "e7d80a54-1fb1-4f79-8267-14b6343d5fe0",
   "metadata": {},
   "source": [
    "<h2>18. Підрахуйте кількість років, коли дівчаток народжувалось більше,\n",
    "ніж хлопчиків.</h2>"
   ]
  },
  {
   "cell_type": "code",
   "execution_count": 34,
   "id": "89cf509c-1640-416f-a04c-e6448a076980",
   "metadata": {},
   "outputs": [
    {
     "data": {
      "text/plain": [
       "54"
      ]
     },
     "execution_count": 34,
     "metadata": {},
     "output_type": "execute_result"
    }
   ],
   "source": [
    "boys_girls_count = df.groupby(['Year', 'Gender'])['Count'].sum().unstack()\n",
    "boys_girls_count[boys_girls_count['F'] > boys_girls_count['M']].shape[0]"
   ]
  },
  {
   "cell_type": "markdown",
   "id": "24401c9c-a477-4943-8e68-4604ea5f8ba0",
   "metadata": {},
   "source": [
    "<h2>21. Порахуйте, скільки разів хлопчиків називали Barbara</h2>"
   ]
  },
  {
   "cell_type": "code",
   "execution_count": 35,
   "id": "7a0936be-ad43-4a13-a8ab-7c543016ca48",
   "metadata": {},
   "outputs": [
    {
     "data": {
      "text/plain": [
       "4139"
      ]
     },
     "execution_count": 35,
     "metadata": {},
     "output_type": "execute_result"
    }
   ],
   "source": [
    "df[(df['Name'] == 'Barbara') & (df['Gender'] == 'M')]['Count'].sum()"
   ]
  },
  {
   "cell_type": "markdown",
   "id": "e9294acf-3e83-4021-ae18-5e9eb6006dda",
   "metadata": {},
   "source": [
    "<h2>22. Підрахуйте скільки років проводилось спостереження</h2>"
   ]
  },
  {
   "cell_type": "code",
   "execution_count": 38,
   "id": "1dfd0225-92ce-466e-a84f-dbb3f43c2ff8",
   "metadata": {},
   "outputs": [
    {
     "name": "stdout",
     "output_type": "stream",
     "text": [
      "Спостереження проводились 135 років.\n"
     ]
    }
   ],
   "source": [
    "num_of_years = len(df['Year'].unique())\n",
    "print(f\"Спостереження проводились {num_of_years} років.\")"
   ]
  },
  {
   "cell_type": "markdown",
   "id": "73ffaa2a-c891-4bde-aa29-4d79711b46c2",
   "metadata": {},
   "source": [
    "<h2>23. Знати найпопулярніші гендерно-нейтральні імена (ті, що присутні\n",
    "кожного року)</h2>"
   ]
  },
  {
   "cell_type": "code",
   "execution_count": 39,
   "id": "78417c04-afd0-42cc-8f5c-1fb4b3c66094",
   "metadata": {},
   "outputs": [
    {
     "data": {
      "text/html": [
       "<div>\n",
       "<style scoped>\n",
       "    .dataframe tbody tr th:only-of-type {\n",
       "        vertical-align: middle;\n",
       "    }\n",
       "\n",
       "    .dataframe tbody tr th {\n",
       "        vertical-align: top;\n",
       "    }\n",
       "\n",
       "    .dataframe thead th {\n",
       "        text-align: right;\n",
       "    }\n",
       "</style>\n",
       "<table border=\"1\" class=\"dataframe\">\n",
       "  <thead>\n",
       "    <tr style=\"text-align: right;\">\n",
       "      <th></th>\n",
       "      <th>0</th>\n",
       "    </tr>\n",
       "  </thead>\n",
       "  <tbody>\n",
       "    <tr>\n",
       "      <th>0</th>\n",
       "      <td>Mary</td>\n",
       "    </tr>\n",
       "    <tr>\n",
       "      <th>1</th>\n",
       "      <td>Anna</td>\n",
       "    </tr>\n",
       "    <tr>\n",
       "      <th>2</th>\n",
       "      <td>Emma</td>\n",
       "    </tr>\n",
       "    <tr>\n",
       "      <th>3</th>\n",
       "      <td>Elizabeth</td>\n",
       "    </tr>\n",
       "    <tr>\n",
       "      <th>4</th>\n",
       "      <td>Minnie</td>\n",
       "    </tr>\n",
       "    <tr>\n",
       "      <th>...</th>\n",
       "      <td>...</td>\n",
       "    </tr>\n",
       "    <tr>\n",
       "      <th>818</th>\n",
       "      <td>Noble</td>\n",
       "    </tr>\n",
       "    <tr>\n",
       "      <th>819</th>\n",
       "      <td>Rupert</td>\n",
       "    </tr>\n",
       "    <tr>\n",
       "      <th>820</th>\n",
       "      <td>Thad</td>\n",
       "    </tr>\n",
       "    <tr>\n",
       "      <th>821</th>\n",
       "      <td>Kelly</td>\n",
       "    </tr>\n",
       "    <tr>\n",
       "      <th>822</th>\n",
       "      <td>Tommy</td>\n",
       "    </tr>\n",
       "  </tbody>\n",
       "</table>\n",
       "<p>823 rows × 1 columns</p>\n",
       "</div>"
      ],
      "text/plain": [
       "             0\n",
       "0         Mary\n",
       "1         Anna\n",
       "2         Emma\n",
       "3    Elizabeth\n",
       "4       Minnie\n",
       "..         ...\n",
       "818      Noble\n",
       "819     Rupert\n",
       "820       Thad\n",
       "821      Kelly\n",
       "822      Tommy\n",
       "\n",
       "[823 rows x 1 columns]"
      ]
     },
     "execution_count": 39,
     "metadata": {},
     "output_type": "execute_result"
    }
   ],
   "source": [
    "num_of_years = len(df['Year'].unique())\n",
    "male_names = df[df['Gender'] == 'M'].groupby(['Name'])['Count'].sum()\n",
    "female_names = df[df['Gender'] == 'F'].groupby(['Name'])['Count'].sum()\n",
    "gender_neutral_names = male_names.index.intersection(female_names.index)\n",
    "popular_gender_neutral_names = df[df['Name'].isin(gender_neutral_names)].groupby('Name').filter(lambda x: x['Year'].nunique() == num_of_years)['Name'].unique()\n",
    "pd.DataFrame(data=popular_gender_neutral_names)"
   ]
  },
  {
   "cell_type": "markdown",
   "id": "1385ac45-32a6-4aa6-a86b-39660762741a",
   "metadata": {},
   "source": [
    "<h2>24. Знайти найпопулярніше серед непопулярних імен (непопулярне\n",
    "ім’я, яким називали дітей найбільшу кількість разів )</h2>"
   ]
  },
  {
   "cell_type": "code",
   "execution_count": 54,
   "id": "3371c4e9-b1e8-46ab-bcdf-2b951d8a6968",
   "metadata": {},
   "outputs": [
    {
     "data": {
      "text/plain": [
       "\"Найпопулярніше ім'я серед непопулярних (названих менш ніж за 50 років) - Jayden, 189220 разів.\""
      ]
     },
     "execution_count": 54,
     "metadata": {},
     "output_type": "execute_result"
    }
   ],
   "source": [
    "years_threshold = 50\n",
    "unpopular_names = df.groupby('Name').filter(lambda x: x['Year'].nunique() < years_threshold).groupby('Name')['Count'].sum()\n",
    "unpopular_name = unpopular_names.sort_values(ascending=False).head(1)\n",
    "f\"Найпопулярніше ім'я серед непопулярних (названих менш ніж за {years_threshold} років) - {unpopular_name.index[0]}, {unpopular_name.values[0]} разів.\""
   ]
  },
  {
   "cell_type": "markdown",
   "id": "da5d1aac-cf3d-48bb-b232-7098819837c4",
   "metadata": {},
   "source": [
    "<h2>26. Побудувати графіки розподілення кількості жіночих імен John та\n",
    "чоловічих імен Mary по роках.</h2>"
   ]
  },
  {
   "cell_type": "code",
   "execution_count": 45,
   "id": "6deba9a2-ca1d-4990-948c-9183f4a6dbc9",
   "metadata": {},
   "outputs": [
    {
     "data": {
      "image/png": "[encoded data removed]",
      "text/plain": [
       "<Figure size 640x480 with 1 Axes>"
      ]
     },
     "metadata": {},
     "output_type": "display_data"
    }
   ],
   "source": [
    "import matplotlib.pyplot as plt\n",
    "\n",
    "john_data = df[(df['Name'] == 'John') & (df['Gender'] == 'F')]\n",
    "mary_data = df[(df['Name'] == 'Mary') & (df['Gender'] == 'M')]\n",
    "\n",
    "plt.plot(john_data['Year'], john_data['Count'], label='John')\n",
    "plt.plot(mary_data['Year'], mary_data['Count'], label='Mary')\n",
    "\n",
    "plt.xlabel('Year')\n",
    "plt.ylabel('Count')\n",
    "plt.legend(title='Name')\n",
    "\n",
    "plt.show()"
   ]
  }
 ],
 "metadata": {
  "kernelspec": {
   "display_name": "Python 3 (ipykernel)",
   "language": "python",
   "name": "python3"
  },
  "language_info": {
   "codemirror_mode": {
    "name": "ipython",
    "version": 3
   },
   "file_extension": ".py",
   "mimetype": "text/x-python",
   "name": "python",
   "nbconvert_exporter": "python",
   "pygments_lexer": "ipython3",
   "version": "3.11.1"
  }
 },
 "nbformat": 4,
 "nbformat_minor": 5
}
